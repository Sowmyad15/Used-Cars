{
 "cells": [
  {
   "attachments": {},
   "cell_type": "markdown",
   "metadata": {},
   "source": [
    "WEB SCRAPPING USED CARS DATASET FROM CARSDEKHO"
   ]
  },
  {
   "attachments": {},
   "cell_type": "markdown",
   "metadata": {},
   "source": [
    "IMPPORT THE REQUIRED LIBRARIES"
   ]
  },
  {
   "cell_type": "code",
   "execution_count": 1,
   "metadata": {},
   "outputs": [
    {
     "name": "stdout",
     "output_type": "stream",
     "text": [
      "Requirement already satisfied: bs4 in /home/sowmya/.local/share/virtualenvs/sowmya-PJ8mRoW_/lib/python3.10/site-packages (0.0.1)\n",
      "Requirement already satisfied: beautifulsoup4 in /home/sowmya/.local/share/virtualenvs/sowmya-PJ8mRoW_/lib/python3.10/site-packages (from bs4) (4.11.1)\n",
      "Requirement already satisfied: soupsieve>1.2 in /home/sowmya/.local/share/virtualenvs/sowmya-PJ8mRoW_/lib/python3.10/site-packages (from beautifulsoup4->bs4) (2.3.2.post1)\n",
      "Note: you may need to restart the kernel to use updated packages.\n"
     ]
    }
   ],
   "source": [
    "%pip install bs4"
   ]
  },
  {
   "cell_type": "code",
   "execution_count": 2,
   "metadata": {},
   "outputs": [],
   "source": [
    "import requests\n",
    "from bs4 import BeautifulSoup\n",
    "import pandas as pd"
   ]
  },
  {
   "attachments": {},
   "cell_type": "markdown",
   "metadata": {},
   "source": [
    "FOR SINGLE PAGE"
   ]
  },
  {
   "attachments": {},
   "cell_type": "markdown",
   "metadata": {},
   "source": [
    "SET THE BASE URL AND URL OF THE PAGE"
   ]
  },
  {
   "cell_type": "code",
   "execution_count": 4,
   "metadata": {},
   "outputs": [],
   "source": [
    "base_url=\"https://www.cartrade.com\"\n",
    "base_url_pg=\"https://www.cartrade.com/buy-used-cars/#sc=-1&so=-1&pn=1\""
   ]
  },
  {
   "attachments": {},
   "cell_type": "markdown",
   "metadata": {},
   "source": [
    "GET LINKS OF USED CAR FOR ONE PAGE AND ITS DETAILS"
   ]
  },
  {
   "cell_type": "code",
   "execution_count": 5,
   "metadata": {},
   "outputs": [],
   "source": [
    "carlinks=[]\n",
    "base_url_pg=\"https://www.cartrade.com/buy-used-cars/#sc=-1&so=-1&pn=1\"\n",
    "page=requests.get(base_url_pg)\n",
    "soup=BeautifulSoup(page.content,\"html.parser\")\n",
    "h2s = soup.find_all(\"h2\",{\"class\":\"h2heading truncate\"})\n",
    "for h2 in h2s:  \n",
    "    carlinks.append(base_url + h2.a['href'])"
   ]
  },
  {
   "cell_type": "code",
   "execution_count": 6,
   "metadata": {},
   "outputs": [],
   "source": [
    "data=[]\n",
    "for link in carlinks:\n",
    "    car_url=requests.get(link)\n",
    "    car=BeautifulSoup(car_url.content,\"html.parser\")\n",
    "\n",
    "    car_detail1=car.find(\"a\",{\"class\":\"contact-seller-btn contact-seller-btn-class one-click flatRed pull-lef get-seller-details\"})\n",
    "    try:\n",
    "        model=car_detail1['data-model']\n",
    "    except:\n",
    "        model=None\n",
    "    try:\n",
    "        price=car_detail1['data-price']\n",
    "    except:\n",
    "        price=None\n",
    "    try:\n",
    "        city=car_detail1['data-city']\n",
    "    except:\n",
    "        city=None\n",
    "    try:\n",
    "        make=car_detail1['data-make']\n",
    "    except:\n",
    "        make=None\n",
    "    try:\n",
    "        fuel_type=car.find(\"td\", {\"class\":\"vt1\"},text=\"FUEL TYPE\").find_next_sibling(\"td\").text\n",
    "    except:\n",
    "        fuel_type=None\n",
    "    try:\n",
    "        km_driven=car.find(\"td\", {\"class\":\"vt1\"},text=\"KMS Driven\").find_next_sibling(\"td\").text\n",
    "    except:\n",
    "        km_driven=None\n",
    "    try:\n",
    "        color=car.find(\"td\", {\"class\":\"vt1\"},text=\"COLOUR\").find_next_sibling(\"td\").text\n",
    "    except:\n",
    "        color=None\n",
    "    try:\n",
    "        no_of_owners=car.find(\"td\", {\"class\":\"vt1\"},text=\"NUMBER OF OWNERS\").find_next_sibling(\"td\").text\n",
    "    except:\n",
    "        no_of_owners=None\n",
    "    try:\n",
    "        mfg_year=car.find(\"td\", {\"class\":\"vt1\"},text=\"MANUFACTURING YEAR\").find_next_sibling(\"td\").text\n",
    "    except:\n",
    "        mfg_year=None\n",
    "    \n",
    "    details = {\"car_name\":model,\"manufactured by\":make,\"city\":city,\"fuel_type\":fuel_type,\"km_driven\":km_driven,\"colour\":color,\"no_of_owners\":no_of_owners,\"mfg_year\":mfg_year,\"price\":price}\n",
    "\n",
    "    data.append(details)\n"
   ]
  },
  {
   "attachments": {},
   "cell_type": "markdown",
   "metadata": {},
   "source": [
    "FOR MULTIPLE PAGES"
   ]
  },
  {
   "attachments": {},
   "cell_type": "markdown",
   "metadata": {},
   "source": [
    "CREATE THE BASE URL AND URL OF THE PAGE"
   ]
  },
  {
   "cell_type": "code",
   "execution_count": 3,
   "metadata": {},
   "outputs": [],
   "source": [
    "\n",
    "base_url_pg=\"https://www.cartrade.com/buy-used-cars/#sc=-1&so=-1&pn={}\"\n",
    "base_url=\"https://www.cartrade.com\""
   ]
  },
  {
   "attachments": {},
   "cell_type": "markdown",
   "metadata": {},
   "source": [
    "TRAVERSE THROUGH THE PAGES UPTO 200 AND GET THE LINKS OF THE USED CARS"
   ]
  },
  {
   "cell_type": "code",
   "execution_count": 4,
   "metadata": {},
   "outputs": [],
   "source": [
    "carlinks = []\n",
    "for x in range(1,200):\n",
    "    page=requests.get(base_url_pg.format(x))\n",
    "    soup=BeautifulSoup(page.content,\"html.parser\")\n",
    "    h2s = soup.find_all(\"h2\",{\"class\":\"h2heading truncate\"})\n",
    "    for h2 in h2s:  \n",
    "        carlinks.append(base_url + h2.a['href'])\n"
   ]
  },
  {
   "attachments": {},
   "cell_type": "markdown",
   "metadata": {},
   "source": [
    "TRAVERSE THROUGH EACH LINK AND GET ITS DETAILS, ADD THE DICTIONARY TO LIST"
   ]
  },
  {
   "cell_type": "code",
   "execution_count": 5,
   "metadata": {},
   "outputs": [],
   "source": [
    "data=[]\n",
    "for link in carlinks:\n",
    "    car_url=requests.get(link)\n",
    "    car=BeautifulSoup(car_url.content,\"html.parser\")\n",
    "\n",
    "    car_detail1=car.find(\"a\",{\"class\":\"contact-seller-btn contact-seller-btn-class one-click flatRed pull-lef get-seller-details\"})\n",
    "    try:\n",
    "        model=car_detail1['data-model']\n",
    "    except:\n",
    "        model=None\n",
    "    try:\n",
    "        price=car_detail1['data-price']\n",
    "    except:\n",
    "        price=None\n",
    "    try:\n",
    "        city=car_detail1['data-city']\n",
    "    except:\n",
    "        city=None\n",
    "    try:\n",
    "        make=car_detail1['data-make']\n",
    "    except:\n",
    "        make=None\n",
    "    try:\n",
    "        fuel_type=car.find(\"td\", {\"class\":\"vt1\"},text=\"FUEL TYPE\").find_next_sibling(\"td\").text\n",
    "    except:\n",
    "        fuel_type=None\n",
    "    try:\n",
    "        km_driven=car.find(\"td\", {\"class\":\"vt1\"},text=\"KMS Driven\").find_next_sibling(\"td\").text\n",
    "    except:\n",
    "        km_driven=None\n",
    "    try:\n",
    "        color=car.find(\"td\", {\"class\":\"vt1\"},text=\"COLOUR\").find_next_sibling(\"td\").text\n",
    "    except:\n",
    "        color=None\n",
    "    try:\n",
    "        no_of_owners=car.find(\"td\", {\"class\":\"vt1\"},text=\"NUMBER OF OWNERS\").find_next_sibling(\"td\").text\n",
    "    except:\n",
    "        no_of_owners=None\n",
    "    try:\n",
    "        mfg_year=car.find(\"td\", {\"class\":\"vt1\"},text=\"MANUFACTURING YEAR\").find_next_sibling(\"td\").text\n",
    "    except:\n",
    "        mfg_year=None\n",
    "    \n",
    "    details = {\"car_name\":model,\"manufactured by\":make,\"city\":city,\"fuel_type\":fuel_type,\"km_driven\":km_driven,\"colour\":color,\"no_of_owners\":no_of_owners,\"mfg_year\":mfg_year,\"price\":price}\n",
    "\n",
    "    data.append(details)\n"
   ]
  },
  {
   "attachments": {},
   "cell_type": "markdown",
   "metadata": {},
   "source": [
    "CONVERT LIST TO DATAFRAME"
   ]
  },
  {
   "cell_type": "code",
   "execution_count": 12,
   "metadata": {},
   "outputs": [],
   "source": [
    "df = pd.DataFrame(data)\n",
    "df.to_excel(\"Used Cars1.xlsx\",index=False)"
   ]
  },
  {
   "attachments": {},
   "cell_type": "markdown",
   "metadata": {},
   "source": [
    "USED CAR-DF CONTAINS '\\n\\t' AND PRECEDING WHITESPACE IN 'no_of_owners', LETS REMOVE THEM.\n",
    "km_driven- remove Kms in the column."
   ]
  },
  {
   "cell_type": "code",
   "execution_count": 13,
   "metadata": {},
   "outputs": [
    {
     "data": {
      "text/html": [
       "<div>\n",
       "<style scoped>\n",
       "    .dataframe tbody tr th:only-of-type {\n",
       "        vertical-align: middle;\n",
       "    }\n",
       "\n",
       "    .dataframe tbody tr th {\n",
       "        vertical-align: top;\n",
       "    }\n",
       "\n",
       "    .dataframe thead th {\n",
       "        text-align: right;\n",
       "    }\n",
       "</style>\n",
       "<table border=\"1\" class=\"dataframe\">\n",
       "  <thead>\n",
       "    <tr style=\"text-align: right;\">\n",
       "      <th></th>\n",
       "      <th>car_name</th>\n",
       "      <th>manufactured by</th>\n",
       "      <th>city</th>\n",
       "      <th>fuel_type</th>\n",
       "      <th>km_driven</th>\n",
       "      <th>colour</th>\n",
       "      <th>no_of_owners</th>\n",
       "      <th>mfg_year</th>\n",
       "      <th>price</th>\n",
       "    </tr>\n",
       "  </thead>\n",
       "  <tbody>\n",
       "    <tr>\n",
       "      <th>0</th>\n",
       "      <td>Ameo</td>\n",
       "      <td>Volkswagen</td>\n",
       "      <td>Mumbai</td>\n",
       "      <td>Petrol</td>\n",
       "      <td>58,190 Kms</td>\n",
       "      <td>White</td>\n",
       "      <td>First\\n\\t\\t\\t\\t\\t\\t\\t\\t\\t\\t\\t\\t\\t\\t\\t\\t</td>\n",
       "      <td>2016</td>\n",
       "      <td>489000</td>\n",
       "    </tr>\n",
       "    <tr>\n",
       "      <th>1</th>\n",
       "      <td>Duster</td>\n",
       "      <td>Renault</td>\n",
       "      <td>Bangalore</td>\n",
       "      <td>Diesel</td>\n",
       "      <td>63,673 Kms</td>\n",
       "      <td>Grey</td>\n",
       "      <td>First\\n\\t\\t\\t\\t\\t\\t\\t\\t\\t\\t\\t\\t\\t\\t\\t\\t</td>\n",
       "      <td>2018</td>\n",
       "      <td>1025000</td>\n",
       "    </tr>\n",
       "    <tr>\n",
       "      <th>2</th>\n",
       "      <td>Yaris</td>\n",
       "      <td>Toyota</td>\n",
       "      <td>Mumbai</td>\n",
       "      <td>Petrol</td>\n",
       "      <td>27,177 Kms</td>\n",
       "      <td>White</td>\n",
       "      <td>First\\n\\t\\t\\t\\t\\t\\t\\t\\t\\t\\t\\t\\t\\t\\t\\t\\t</td>\n",
       "      <td>2019</td>\n",
       "      <td>850000</td>\n",
       "    </tr>\n",
       "    <tr>\n",
       "      <th>3</th>\n",
       "      <td>City</td>\n",
       "      <td>Honda</td>\n",
       "      <td>Delhi</td>\n",
       "      <td>Diesel</td>\n",
       "      <td>5,000 Kms</td>\n",
       "      <td>White</td>\n",
       "      <td>First\\n\\t\\t\\t\\t\\t\\t\\t\\t\\t\\t\\t\\t\\t\\t\\t\\t</td>\n",
       "      <td>2021</td>\n",
       "      <td>1450000</td>\n",
       "    </tr>\n",
       "    <tr>\n",
       "      <th>4</th>\n",
       "      <td>Seltos</td>\n",
       "      <td>Kia</td>\n",
       "      <td>Bangalore</td>\n",
       "      <td>Petrol</td>\n",
       "      <td>42,556 Kms</td>\n",
       "      <td>Grey</td>\n",
       "      <td>First\\n\\t\\t\\t\\t\\t\\t\\t\\t\\t\\t\\t\\t\\t\\t\\t\\t</td>\n",
       "      <td>2020</td>\n",
       "      <td>1699000</td>\n",
       "    </tr>\n",
       "  </tbody>\n",
       "</table>\n",
       "</div>"
      ],
      "text/plain": [
       "  car_name manufactured by       city fuel_type   km_driven colour  \\\n",
       "0     Ameo      Volkswagen     Mumbai    Petrol  58,190 Kms  White   \n",
       "1   Duster         Renault  Bangalore    Diesel  63,673 Kms   Grey   \n",
       "2    Yaris          Toyota     Mumbai    Petrol  27,177 Kms  White   \n",
       "3     City           Honda      Delhi    Diesel   5,000 Kms  White   \n",
       "4   Seltos             Kia  Bangalore    Petrol  42,556 Kms   Grey   \n",
       "\n",
       "                               no_of_owners mfg_year    price  \n",
       "0   First\\n\\t\\t\\t\\t\\t\\t\\t\\t\\t\\t\\t\\t\\t\\t\\t\\t     2016   489000  \n",
       "1   First\\n\\t\\t\\t\\t\\t\\t\\t\\t\\t\\t\\t\\t\\t\\t\\t\\t     2018  1025000  \n",
       "2   First\\n\\t\\t\\t\\t\\t\\t\\t\\t\\t\\t\\t\\t\\t\\t\\t\\t     2019   850000  \n",
       "3   First\\n\\t\\t\\t\\t\\t\\t\\t\\t\\t\\t\\t\\t\\t\\t\\t\\t     2021  1450000  \n",
       "4   First\\n\\t\\t\\t\\t\\t\\t\\t\\t\\t\\t\\t\\t\\t\\t\\t\\t     2020  1699000  "
      ]
     },
     "execution_count": 13,
     "metadata": {},
     "output_type": "execute_result"
    }
   ],
   "source": [
    "df.head()"
   ]
  },
  {
   "cell_type": "code",
   "execution_count": 14,
   "metadata": {},
   "outputs": [],
   "source": [
    "df['no_of_owners']=df['no_of_owners'].replace('\\t',' ', regex=True)\n",
    "df['no_of_owners']=df['no_of_owners'].replace('\\n',' ', regex=True)\n",
    "df['no_of_owners']=df['no_of_owners'].replace(' ','',regex=True)\n",
    "\n",
    "#KMS in km_driven\n",
    "df['km_driven']=df['km_driven'].replace(\" Kms\",\"\",regex=True)\n",
    "df['km_driven']=df['km_driven'].replace(\",\",\"\",regex=True)"
   ]
  },
  {
   "cell_type": "markdown",
   "metadata": {},
   "source": [
    "FINAL DF-SAVE IN EXCEL"
   ]
  },
  {
   "cell_type": "code",
   "execution_count": 16,
   "metadata": {},
   "outputs": [
    {
     "data": {
      "text/html": [
       "<div>\n",
       "<style scoped>\n",
       "    .dataframe tbody tr th:only-of-type {\n",
       "        vertical-align: middle;\n",
       "    }\n",
       "\n",
       "    .dataframe tbody tr th {\n",
       "        vertical-align: top;\n",
       "    }\n",
       "\n",
       "    .dataframe thead th {\n",
       "        text-align: right;\n",
       "    }\n",
       "</style>\n",
       "<table border=\"1\" class=\"dataframe\">\n",
       "  <thead>\n",
       "    <tr style=\"text-align: right;\">\n",
       "      <th></th>\n",
       "      <th>car_name</th>\n",
       "      <th>manufactured by</th>\n",
       "      <th>city</th>\n",
       "      <th>fuel_type</th>\n",
       "      <th>km_driven</th>\n",
       "      <th>colour</th>\n",
       "      <th>no_of_owners</th>\n",
       "      <th>mfg_year</th>\n",
       "      <th>price</th>\n",
       "    </tr>\n",
       "  </thead>\n",
       "  <tbody>\n",
       "    <tr>\n",
       "      <th>0</th>\n",
       "      <td>Ameo</td>\n",
       "      <td>Volkswagen</td>\n",
       "      <td>Mumbai</td>\n",
       "      <td>Petrol</td>\n",
       "      <td>58190</td>\n",
       "      <td>White</td>\n",
       "      <td>First</td>\n",
       "      <td>2016</td>\n",
       "      <td>489000</td>\n",
       "    </tr>\n",
       "    <tr>\n",
       "      <th>1</th>\n",
       "      <td>Duster</td>\n",
       "      <td>Renault</td>\n",
       "      <td>Bangalore</td>\n",
       "      <td>Diesel</td>\n",
       "      <td>63673</td>\n",
       "      <td>Grey</td>\n",
       "      <td>First</td>\n",
       "      <td>2018</td>\n",
       "      <td>1025000</td>\n",
       "    </tr>\n",
       "    <tr>\n",
       "      <th>2</th>\n",
       "      <td>Yaris</td>\n",
       "      <td>Toyota</td>\n",
       "      <td>Mumbai</td>\n",
       "      <td>Petrol</td>\n",
       "      <td>27177</td>\n",
       "      <td>White</td>\n",
       "      <td>First</td>\n",
       "      <td>2019</td>\n",
       "      <td>850000</td>\n",
       "    </tr>\n",
       "    <tr>\n",
       "      <th>3</th>\n",
       "      <td>City</td>\n",
       "      <td>Honda</td>\n",
       "      <td>Delhi</td>\n",
       "      <td>Diesel</td>\n",
       "      <td>5000</td>\n",
       "      <td>White</td>\n",
       "      <td>First</td>\n",
       "      <td>2021</td>\n",
       "      <td>1450000</td>\n",
       "    </tr>\n",
       "    <tr>\n",
       "      <th>4</th>\n",
       "      <td>Seltos</td>\n",
       "      <td>Kia</td>\n",
       "      <td>Bangalore</td>\n",
       "      <td>Petrol</td>\n",
       "      <td>42556</td>\n",
       "      <td>Grey</td>\n",
       "      <td>First</td>\n",
       "      <td>2020</td>\n",
       "      <td>1699000</td>\n",
       "    </tr>\n",
       "  </tbody>\n",
       "</table>\n",
       "</div>"
      ],
      "text/plain": [
       "  car_name manufactured by       city fuel_type km_driven colour no_of_owners  \\\n",
       "0     Ameo      Volkswagen     Mumbai    Petrol     58190  White        First   \n",
       "1   Duster         Renault  Bangalore    Diesel     63673   Grey        First   \n",
       "2    Yaris          Toyota     Mumbai    Petrol     27177  White        First   \n",
       "3     City           Honda      Delhi    Diesel      5000  White        First   \n",
       "4   Seltos             Kia  Bangalore    Petrol     42556   Grey        First   \n",
       "\n",
       "  mfg_year    price  \n",
       "0     2016   489000  \n",
       "1     2018  1025000  \n",
       "2     2019   850000  \n",
       "3     2021  1450000  \n",
       "4     2020  1699000  "
      ]
     },
     "execution_count": 16,
     "metadata": {},
     "output_type": "execute_result"
    }
   ],
   "source": [
    "df.to_excel(\"Used Cars2.xlsx\",index=False)\n",
    "df.head()"
   ]
  },
  {
   "cell_type": "code",
   "execution_count": 19,
   "metadata": {},
   "outputs": [
    {
     "name": "stdout",
     "output_type": "stream",
     "text": [
      "<class 'pandas.core.frame.DataFrame'>\n",
      "RangeIndex: 6365 entries, 0 to 6364\n",
      "Data columns (total 9 columns):\n",
      " #   Column           Non-Null Count  Dtype \n",
      "---  ------           --------------  ----- \n",
      " 0   car_name         6327 non-null   object\n",
      " 1   manufactured by  6327 non-null   object\n",
      " 2   city             6327 non-null   object\n",
      " 3   fuel_type        6327 non-null   object\n",
      " 4   km_driven        6327 non-null   object\n",
      " 5   colour           6327 non-null   object\n",
      " 6   no_of_owners     6327 non-null   object\n",
      " 7   mfg_year         6327 non-null   object\n",
      " 8   price            6327 non-null   object\n",
      "dtypes: object(9)\n",
      "memory usage: 447.7+ KB\n"
     ]
    }
   ],
   "source": [
    "df.info()"
   ]
  },
  {
   "cell_type": "code",
   "execution_count": 18,
   "metadata": {},
   "outputs": [
    {
     "data": {
      "text/plain": [
       "car_name           38\n",
       "manufactured by    38\n",
       "city               38\n",
       "fuel_type          38\n",
       "km_driven          38\n",
       "colour             38\n",
       "no_of_owners       38\n",
       "mfg_year           38\n",
       "price              38\n",
       "dtype: int64"
      ]
     },
     "execution_count": 18,
     "metadata": {},
     "output_type": "execute_result"
    }
   ],
   "source": [
    "df.isnull().sum()"
   ]
  }
 ],
 "metadata": {
  "kernelspec": {
   "display_name": "sowmya-PJ8mRoW_",
   "language": "python",
   "name": "python3"
  },
  "language_info": {
   "codemirror_mode": {
    "name": "ipython",
    "version": 3
   },
   "file_extension": ".py",
   "mimetype": "text/x-python",
   "name": "python",
   "nbconvert_exporter": "python",
   "pygments_lexer": "ipython3",
   "version": "3.10.6 (main, Nov 14 2022, 16:10:14) [GCC 11.3.0]"
  },
  "orig_nbformat": 4,
  "vscode": {
   "interpreter": {
    "hash": "0d151d527c98eb543411b5bff01f1cb112491052858292df5a3ac83e920cf9ec"
   }
  }
 },
 "nbformat": 4,
 "nbformat_minor": 2
}
